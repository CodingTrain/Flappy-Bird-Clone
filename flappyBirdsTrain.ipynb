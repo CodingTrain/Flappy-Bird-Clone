{
  "nbformat": 4,
  "nbformat_minor": 0,
  "metadata": {
    "colab": {
      "name": "flappyBirdsTrain.ipynb",
      "version": "0.3.2",
      "provenance": [],
      "collapsed_sections": [
        "7PVx00g90FFN",
        "yWri_QCi0f_i"
      ]
    },
    "kernelspec": {
      "name": "python3",
      "display_name": "Python 3"
    },
    "accelerator": "GPU"
  },
  "cells": [
    {
      "cell_type": "markdown",
      "metadata": {
        "id": "3lq4SQq60Rli",
        "colab_type": "text"
      },
      "source": [
        "# Imports and settings"
      ]
    },
    {
      "cell_type": "code",
      "metadata": {
        "id": "OLGYBFtJ36ob",
        "colab_type": "code",
        "outputId": "47876b06-5b41-4278-f731-23729d2c9b1c",
        "colab": {
          "base_uri": "https://localhost:8080/",
          "height": 55
        }
      },
      "source": [
        "#test if current transfer training works\n",
        "import matplotlib.pyplot as plt\n",
        "import pandas as pd\n",
        "import numpy as np\n",
        "from sklearn import preprocessing\n",
        "from collections import deque\n",
        "import random\n",
        "import tensorflow as tf\n",
        "from tensorflow.keras.models import Sequential, Model\n",
        "from tensorflow.keras.layers import Dense, Dropout, LSTM, CuDNNLSTM, BatchNormalization, Flatten, Bidirectional, Input, RepeatVector, Conv1D, MaxPooling1D, LeakyReLU\n",
        "from tensorflow.keras import layers\n",
        "from sklearn.model_selection import train_test_split\n",
        "from sklearn.utils import shuffle\n",
        "\n",
        "\n",
        "from google.colab import drive\n",
        "drive.mount('/content/drive')\n",
        "\n",
        "#from numpy.random import seed\n",
        "#seed(42)"
      ],
      "execution_count": 12,
      "outputs": [
        {
          "output_type": "stream",
          "text": [
            "Drive already mounted at /content/drive; to attempt to forcibly remount, call drive.mount(\"/content/drive\", force_remount=True).\n"
          ],
          "name": "stdout"
        }
      ]
    },
    {
      "cell_type": "code",
      "metadata": {
        "id": "JPC1zsd937r2",
        "colab_type": "code",
        "colab": {}
      },
      "source": [
        "#in frames\n",
        "SEQ_LEN = 100\n",
        "EPOCHS = 100\n",
        "LEARNING_RATE = 0.0001\n",
        "BATCH_SIZE = 2000\n",
        "LOSS =  tf.keras.losses.mse#tf.keras.losses.logcosh\n",
        "LOSS_NAME = \"MSE\"\n",
        "OPT =  tf.keras.optimizers.Adam(lr=LEARNING_RATE, decay=1e-10)"
      ],
      "execution_count": 0,
      "outputs": []
    },
    {
      "cell_type": "markdown",
      "metadata": {
        "id": "7PVx00g90FFN",
        "colab_type": "text"
      },
      "source": [
        "# Preprocessing functions"
      ]
    },
    {
      "cell_type": "code",
      "metadata": {
        "id": "U7b08NnH3-R8",
        "colab_type": "code",
        "cellView": "code",
        "colab": {}
      },
      "source": [
        "max_vals = [600, 1, 18, 500]\n",
        "min_vals = [170, 0, -10, 0]\n",
        "\n",
        "\n",
        "def min_max_scale(_df):\n",
        "    #x1 = (x - min_x) / (max_x - min_x)\n",
        "    for col, max_val, min_val in zip(_df.columns, max_vals, min_vals):\n",
        "        _df[col] = (_df[col] - min_val) / (max_val - min_val)\n",
        "\n",
        "    _df.dropna(inplace=True)\n",
        "\n",
        "    return _df\n",
        "\n",
        "def build_seq(_df):\n",
        "    out_df = _df.copy()\n",
        "\n",
        "    out_df = out_df.drop([\"birdJump\", \"birdVelocity\", \"pipeY\"], axis=1)#drops all the non x and y columns\n",
        "\n",
        "    sequential_data = []\n",
        "    for i in range(len(_df.values) - (SEQ_LEN + SEQ_LEN)):\n",
        "\n",
        "        prev_end = i+SEQ_LEN;\n",
        "\n",
        "        _inp = _df.values[i:prev_end]\n",
        "        _out = out_df.values[prev_end:prev_end+SEQ_LEN]\n",
        "        \n",
        "        sequential_data.append([np.array(_inp), np.array(_out)])\n",
        "\n",
        "    random.shuffle(sequential_data)\n",
        "\n",
        "    X = []\n",
        "    y = []\n",
        "\n",
        "    for seq, target in sequential_data:\n",
        "        X.append(seq)\n",
        "        y.append(target)\n",
        "\n",
        "    return np.array(X), np.array(y)\n",
        "  \n",
        "  \n",
        "def load_and_split_runs(train_runs, test_run):\n",
        "    train_input = np.empty((0, SEQ_LEN, 4))\n",
        "    train_output = np.empty((0, SEQ_LEN, 1))\n",
        "    \n",
        "    \n",
        "    for train_run in train_runs:\n",
        "      _df = pd.read_csv(\"drive/My Drive/Data Sets/\"+train_run+\".csv\")\n",
        "      _df = min_max_scale(_df)\n",
        "      _input, _output = build_seq(_df)\n",
        "      \n",
        "      \n",
        "      train_input = np.concatenate((train_input, _input))\n",
        "      train_output = np.concatenate((train_output, _output))\n",
        "\n",
        "    test_df = pd.read_csv(\"drive/My Drive/Data Sets/\"+test_run+\".csv\")\n",
        "    test_df = min_max_scale(test_df)\n",
        "    test_input, test_output = build_seq(test_df)\n",
        "    \n",
        "    #shuffle\n",
        "    train_input, train_output = shuffle(train_input, train_output)\n",
        "    test_input, test_output = shuffle(test_input, test_output)\n",
        "    \n",
        "    \n",
        "    return train_input, test_input, train_output, test_output"
      ],
      "execution_count": 0,
      "outputs": []
    },
    {
      "cell_type": "markdown",
      "metadata": {
        "id": "yWri_QCi0f_i",
        "colab_type": "text"
      },
      "source": [
        "# load and preprocess data"
      ]
    },
    {
      "cell_type": "code",
      "metadata": {
        "id": "02te9ATH4RgN",
        "colab_type": "code",
        "colab": {}
      },
      "source": [
        "train_runs = [\"flappyBird (2)\",\n",
        "             \"flappyBird (3)\",\n",
        "             \"flappyBird (4)\",\n",
        "             \"flappyBird (5)\",\n",
        "             \"flappyBird (6)\",\n",
        "             \"flappyBird (7)\",\n",
        "             \"flappyBird (8)\",\n",
        "             \"flappyBird (9)\",\n",
        "             \"flappyBird (10)\",\n",
        "             \"flappyBird (11)\",\n",
        "             \"flappyBird (12)\",\n",
        "             \"flappyBird (13)\",\n",
        "             \"flappyBird (14)\",\n",
        "             \"flappyBird (15)\",\n",
        "             \"flappyBird (16)\",\n",
        "             \"flappyBird (17)\",\n",
        "             \"flappyBird (18)\",\n",
        "             \"flappyBird (19)\",\n",
        "             \"flappyBird (20)\",\n",
        "             ]\n",
        "\n",
        "train_input, test_input, train_output, test_output = load_and_split_runs(train_runs, \"flappyBird\")"
      ],
      "execution_count": 0,
      "outputs": []
    },
    {
      "cell_type": "markdown",
      "metadata": {
        "id": "-7-4T8cl0lhP",
        "colab_type": "text"
      },
      "source": [
        "# Train model"
      ]
    },
    {
      "cell_type": "code",
      "metadata": {
        "id": "EztyF-iPSIpZ",
        "colab_type": "code",
        "colab": {}
      },
      "source": [
        "def plot_prediction(test_input, test_output, pred):\n",
        "  x_in_seq_vals = np.linspace(start=0, stop=SEQ_LEN, num=SEQ_LEN)\n",
        "  x_out_seq_vals = np.linspace(start=SEQ_LEN, stop=2*SEQ_LEN, num=SEQ_LEN)\n",
        "\n",
        "  y_inp = []\n",
        "  y_out = []\n",
        "  y_pred = []\n",
        "\n",
        "\n",
        "  for i in range(SEQ_LEN):\n",
        "      y_inp.append(test_input[0][i][0])\n",
        "      y_out.append(test_output[0][i][0])\n",
        "      y_pred.append(pred[0][i][0])\n",
        "\n",
        "  plt.scatter(x_in_seq_vals, y_inp, color=\"red\", label=\"input\")\n",
        "  plt.scatter(x_out_seq_vals, y_out, color=\"blue\", label=\"output\")\n",
        "  plt.scatter(x_out_seq_vals, y_pred, color=\"green\", label=\"output\")\n",
        "\n",
        "  #plt.scatter(x_vals, main_df[\"birdY\"], color=\"green\")\n",
        "  #plt.scatter(x_vals, main_df[\"pipeY\"], color=\"black\")\n",
        "\n",
        "  plt.show()"
      ],
      "execution_count": 0,
      "outputs": []
    },
    {
      "cell_type": "code",
      "metadata": {
        "id": "pVK8kMUNNeCN",
        "colab_type": "code",
        "colab": {}
      },
      "source": [
        "def lstmModel():\n",
        "    inputs = Input(shape=(train_input.shape[1:]))\n",
        "\n",
        "    lstm_1 = LSTM(256, return_sequences=True)(inputs)\n",
        "    lstm_1 = BatchNormalization()(lstm_1)\n",
        "    lstm_1 = Dropout(0.5)(lstm_1)\n",
        "\n",
        "    lstm_2 = LSTM(256, return_sequences=True)(lstm_1)\n",
        "    lstm_2 = BatchNormalization()(lstm_2)\n",
        "    lstm_2 = Dropout(0.5)(lstm_2)\n",
        "    \n",
        "    lstm_3 = LSTM(256, return_sequences=True)(lstm_2)\n",
        "    lstm_3 = BatchNormalization()(lstm_3)\n",
        "    lstm_3 = Dropout(0.5)(lstm_3)\n",
        "   \n",
        "    lstm_4 = LSTM(128, return_sequences=True)(lstm_3)\n",
        "\n",
        "    outputs = Dense(1, activation=\"linear\")(lstm_4)\n",
        "\n",
        "    return Model(inputs=inputs, outputs=outputs)\n",
        "\n",
        "def seq2seqModel():\n",
        "    inputs = Input(shape=(train_input.shape[1:]))\n",
        "\n",
        "    lstm_1 = LSTM(256, return_sequences=True)(inputs)\n",
        "    lstm_1 = LSTM(256, return_sequences=False)(lstm_1)\n",
        "\n",
        "    repeat_vec = RepeatVector(SEQ_LEN)(lstm_1)\n",
        "\n",
        "    lstm_2 = LSTM(256, return_sequences=True)(repeat_vec)\n",
        "    lstm_2 = LSTM(256, return_sequences=True)(lstm_2)\n",
        "    \n",
        "    dense_1 = Dense(128, activation=\"relu\")(lstm_2)\n",
        "    \n",
        "    outputs = Dense(1, activation='linear')(dense_1)\n",
        "    \n",
        "    return Model(inputs=inputs, outputs=outputs) "
      ],
      "execution_count": 0,
      "outputs": []
    },
    {
      "cell_type": "code",
      "metadata": {
        "id": "s49Ojuuh4Uiy",
        "colab_type": "code",
        "outputId": "5c41a758-f232-4ec4-b786-57c1376f028d",
        "colab": {
          "base_uri": "https://localhost:8080/",
          "height": 1000
        }
      },
      "source": [
        "model = lstmModel()\n",
        "\n",
        "model.compile(loss=LOSS, \n",
        "                  optimizer=OPT,\n",
        "                  metrics=['mse']) \n",
        "\n",
        "# Train model\n",
        "history = model.fit(\n",
        "    train_input, train_output,\n",
        "    batch_size=BATCH_SIZE,\n",
        "    epochs=EPOCHS,\n",
        "    validation_data=(test_input, test_output)\n",
        ")\n",
        "\n",
        "pred = model.predict(np.array([test_input[0]]))\n",
        "\n",
        "plot_prediction(test_input, test_output, pred)\n",
        "\n",
        "model.save_weights(\"model_1.h5\")"
      ],
      "execution_count": 18,
      "outputs": [
        {
          "output_type": "stream",
          "text": [
            "Train on 21463 samples, validate on 1248 samples\n",
            "WARNING:tensorflow:From /usr/local/lib/python3.6/dist-packages/tensorflow/python/ops/math_grad.py:1250: add_dispatch_support.<locals>.wrapper (from tensorflow.python.ops.array_ops) is deprecated and will be removed in a future version.\n",
            "Instructions for updating:\n",
            "Use tf.where in 2.0, which has the same broadcast rule as np.where\n",
            "Epoch 1/100\n",
            "21463/21463 [==============================] - 52s 2ms/sample - loss: 0.1893 - mean_squared_error: 0.1893 - val_loss: 0.0479 - val_mean_squared_error: 0.0479\n",
            "Epoch 2/100\n",
            "21463/21463 [==============================] - 62s 3ms/sample - loss: 0.0551 - mean_squared_error: 0.0551 - val_loss: 0.0325 - val_mean_squared_error: 0.0325\n",
            "Epoch 3/100\n",
            "21463/21463 [==============================] - 41s 2ms/sample - loss: 0.0466 - mean_squared_error: 0.0466 - val_loss: 0.0302 - val_mean_squared_error: 0.0302\n",
            "Epoch 4/100\n",
            "21463/21463 [==============================] - 42s 2ms/sample - loss: 0.0410 - mean_squared_error: 0.0410 - val_loss: 0.0285 - val_mean_squared_error: 0.0285\n",
            "Epoch 5/100\n",
            "21463/21463 [==============================] - 41s 2ms/sample - loss: 0.0389 - mean_squared_error: 0.0389 - val_loss: 0.0279 - val_mean_squared_error: 0.0279\n",
            "Epoch 6/100\n",
            "21463/21463 [==============================] - 41s 2ms/sample - loss: 0.0373 - mean_squared_error: 0.0373 - val_loss: 0.0262 - val_mean_squared_error: 0.0262\n",
            "Epoch 7/100\n",
            "21463/21463 [==============================] - 41s 2ms/sample - loss: 0.0361 - mean_squared_error: 0.0361 - val_loss: 0.0252 - val_mean_squared_error: 0.0252\n",
            "Epoch 8/100\n",
            "21463/21463 [==============================] - 41s 2ms/sample - loss: 0.0350 - mean_squared_error: 0.0350 - val_loss: 0.0241 - val_mean_squared_error: 0.0241\n",
            "Epoch 9/100\n",
            "21463/21463 [==============================] - 41s 2ms/sample - loss: 0.0338 - mean_squared_error: 0.0338 - val_loss: 0.0230 - val_mean_squared_error: 0.0230\n",
            "Epoch 10/100\n",
            "21463/21463 [==============================] - 42s 2ms/sample - loss: 0.0325 - mean_squared_error: 0.0325 - val_loss: 0.0220 - val_mean_squared_error: 0.0220\n",
            "Epoch 11/100\n",
            "21463/21463 [==============================] - 41s 2ms/sample - loss: 0.0312 - mean_squared_error: 0.0312 - val_loss: 0.0210 - val_mean_squared_error: 0.0210\n",
            "Epoch 12/100\n",
            "21463/21463 [==============================] - 41s 2ms/sample - loss: 0.0297 - mean_squared_error: 0.0297 - val_loss: 0.0196 - val_mean_squared_error: 0.0196\n",
            "Epoch 13/100\n",
            "21463/21463 [==============================] - 41s 2ms/sample - loss: 0.0273 - mean_squared_error: 0.0273 - val_loss: 0.0176 - val_mean_squared_error: 0.0176\n",
            "Epoch 14/100\n",
            "21463/21463 [==============================] - 41s 2ms/sample - loss: 0.0243 - mean_squared_error: 0.0243 - val_loss: 0.0164 - val_mean_squared_error: 0.0164\n",
            "Epoch 15/100\n",
            "21463/21463 [==============================] - 41s 2ms/sample - loss: 0.0232 - mean_squared_error: 0.0232 - val_loss: 0.0155 - val_mean_squared_error: 0.0155\n",
            "Epoch 16/100\n",
            "21463/21463 [==============================] - 41s 2ms/sample - loss: 0.0224 - mean_squared_error: 0.0224 - val_loss: 0.0153 - val_mean_squared_error: 0.0153\n",
            "Epoch 17/100\n",
            "21463/21463 [==============================] - 41s 2ms/sample - loss: 0.0218 - mean_squared_error: 0.0218 - val_loss: 0.0149 - val_mean_squared_error: 0.0149\n",
            "Epoch 18/100\n",
            "21463/21463 [==============================] - 41s 2ms/sample - loss: 0.0213 - mean_squared_error: 0.0213 - val_loss: 0.0149 - val_mean_squared_error: 0.0149\n",
            "Epoch 19/100\n",
            "21463/21463 [==============================] - 41s 2ms/sample - loss: 0.0208 - mean_squared_error: 0.0208 - val_loss: 0.0152 - val_mean_squared_error: 0.0152\n",
            "Epoch 20/100\n",
            "21463/21463 [==============================] - 41s 2ms/sample - loss: 0.0205 - mean_squared_error: 0.0205 - val_loss: 0.0151 - val_mean_squared_error: 0.0151\n",
            "Epoch 21/100\n",
            "21463/21463 [==============================] - 41s 2ms/sample - loss: 0.0203 - mean_squared_error: 0.0203 - val_loss: 0.0140 - val_mean_squared_error: 0.0140\n",
            "Epoch 22/100\n",
            "21463/21463 [==============================] - 41s 2ms/sample - loss: 0.0190 - mean_squared_error: 0.0190 - val_loss: 0.0134 - val_mean_squared_error: 0.0134\n",
            "Epoch 23/100\n",
            "21463/21463 [==============================] - 41s 2ms/sample - loss: 0.0188 - mean_squared_error: 0.0188 - val_loss: 0.0131 - val_mean_squared_error: 0.0131\n",
            "Epoch 24/100\n",
            "21463/21463 [==============================] - 41s 2ms/sample - loss: 0.0184 - mean_squared_error: 0.0184 - val_loss: 0.0133 - val_mean_squared_error: 0.0133\n",
            "Epoch 25/100\n",
            "21463/21463 [==============================] - 41s 2ms/sample - loss: 0.0182 - mean_squared_error: 0.0182 - val_loss: 0.0146 - val_mean_squared_error: 0.0146\n",
            "Epoch 26/100\n",
            "21463/21463 [==============================] - 41s 2ms/sample - loss: 0.0181 - mean_squared_error: 0.0181 - val_loss: 0.0132 - val_mean_squared_error: 0.0132\n",
            "Epoch 27/100\n",
            "21463/21463 [==============================] - 46s 2ms/sample - loss: 0.0175 - mean_squared_error: 0.0175 - val_loss: 0.0129 - val_mean_squared_error: 0.0129\n",
            "Epoch 28/100\n",
            "21463/21463 [==============================] - 44s 2ms/sample - loss: 0.0173 - mean_squared_error: 0.0173 - val_loss: 0.0127 - val_mean_squared_error: 0.0127\n",
            "Epoch 29/100\n",
            "21463/21463 [==============================] - 45s 2ms/sample - loss: 0.0174 - mean_squared_error: 0.0174 - val_loss: 0.0133 - val_mean_squared_error: 0.0133\n",
            "Epoch 30/100\n",
            "21463/21463 [==============================] - 42s 2ms/sample - loss: 0.0172 - mean_squared_error: 0.0172 - val_loss: 0.0140 - val_mean_squared_error: 0.0140\n",
            "Epoch 31/100\n",
            "21463/21463 [==============================] - 41s 2ms/sample - loss: 0.0170 - mean_squared_error: 0.0170 - val_loss: 0.0125 - val_mean_squared_error: 0.0125\n",
            "Epoch 32/100\n",
            "21463/21463 [==============================] - 41s 2ms/sample - loss: 0.0166 - mean_squared_error: 0.0166 - val_loss: 0.0132 - val_mean_squared_error: 0.0132\n",
            "Epoch 33/100\n",
            "21463/21463 [==============================] - 41s 2ms/sample - loss: 0.0162 - mean_squared_error: 0.0162 - val_loss: 0.0119 - val_mean_squared_error: 0.0119\n",
            "Epoch 34/100\n",
            "21463/21463 [==============================] - 41s 2ms/sample - loss: 0.0159 - mean_squared_error: 0.0159 - val_loss: 0.0115 - val_mean_squared_error: 0.0115\n",
            "Epoch 35/100\n",
            "21463/21463 [==============================] - 47s 2ms/sample - loss: 0.0162 - mean_squared_error: 0.0162 - val_loss: 0.0121 - val_mean_squared_error: 0.0121\n",
            "Epoch 36/100\n",
            "21463/21463 [==============================] - 41s 2ms/sample - loss: 0.0161 - mean_squared_error: 0.0161 - val_loss: 0.0122 - val_mean_squared_error: 0.0122\n",
            "Epoch 37/100\n",
            "21463/21463 [==============================] - 45s 2ms/sample - loss: 0.0157 - mean_squared_error: 0.0157 - val_loss: 0.0123 - val_mean_squared_error: 0.0123\n",
            "Epoch 38/100\n",
            "21463/21463 [==============================] - 44s 2ms/sample - loss: 0.0154 - mean_squared_error: 0.0154 - val_loss: 0.0120 - val_mean_squared_error: 0.0120\n",
            "Epoch 39/100\n",
            "21463/21463 [==============================] - 41s 2ms/sample - loss: 0.0155 - mean_squared_error: 0.0155 - val_loss: 0.0115 - val_mean_squared_error: 0.0115\n",
            "Epoch 40/100\n",
            "21463/21463 [==============================] - 41s 2ms/sample - loss: 0.0150 - mean_squared_error: 0.0150 - val_loss: 0.0112 - val_mean_squared_error: 0.0112\n",
            "Epoch 41/100\n",
            "21463/21463 [==============================] - 41s 2ms/sample - loss: 0.0160 - mean_squared_error: 0.0160 - val_loss: 0.0123 - val_mean_squared_error: 0.0123\n",
            "Epoch 42/100\n",
            "21463/21463 [==============================] - 43s 2ms/sample - loss: 0.0153 - mean_squared_error: 0.0153 - val_loss: 0.0114 - val_mean_squared_error: 0.0114\n",
            "Epoch 43/100\n",
            "21463/21463 [==============================] - 45s 2ms/sample - loss: 0.0148 - mean_squared_error: 0.0148 - val_loss: 0.0113 - val_mean_squared_error: 0.0113\n",
            "Epoch 44/100\n",
            "21463/21463 [==============================] - 41s 2ms/sample - loss: 0.0149 - mean_squared_error: 0.0149 - val_loss: 0.0116 - val_mean_squared_error: 0.0116\n",
            "Epoch 45/100\n",
            "21463/21463 [==============================] - 41s 2ms/sample - loss: 0.0149 - mean_squared_error: 0.0149 - val_loss: 0.0116 - val_mean_squared_error: 0.0116\n",
            "Epoch 46/100\n",
            "21463/21463 [==============================] - 41s 2ms/sample - loss: 0.0148 - mean_squared_error: 0.0148 - val_loss: 0.0119 - val_mean_squared_error: 0.0119\n",
            "Epoch 47/100\n",
            "21463/21463 [==============================] - 41s 2ms/sample - loss: 0.0145 - mean_squared_error: 0.0145 - val_loss: 0.0116 - val_mean_squared_error: 0.0116\n",
            "Epoch 48/100\n",
            "21463/21463 [==============================] - 41s 2ms/sample - loss: 0.0143 - mean_squared_error: 0.0143 - val_loss: 0.0111 - val_mean_squared_error: 0.0111\n",
            "Epoch 49/100\n",
            "21463/21463 [==============================] - 41s 2ms/sample - loss: 0.0142 - mean_squared_error: 0.0142 - val_loss: 0.0118 - val_mean_squared_error: 0.0118\n",
            "Epoch 50/100\n",
            "21463/21463 [==============================] - 44s 2ms/sample - loss: 0.0141 - mean_squared_error: 0.0141 - val_loss: 0.0119 - val_mean_squared_error: 0.0119\n",
            "Epoch 51/100\n",
            "21463/21463 [==============================] - 44s 2ms/sample - loss: 0.0141 - mean_squared_error: 0.0141 - val_loss: 0.0114 - val_mean_squared_error: 0.0114\n",
            "Epoch 52/100\n",
            "21463/21463 [==============================] - 41s 2ms/sample - loss: 0.0148 - mean_squared_error: 0.0148 - val_loss: 0.0135 - val_mean_squared_error: 0.0135\n",
            "Epoch 53/100\n",
            "21463/21463 [==============================] - 41s 2ms/sample - loss: 0.0146 - mean_squared_error: 0.0146 - val_loss: 0.0110 - val_mean_squared_error: 0.0110\n",
            "Epoch 54/100\n",
            "21463/21463 [==============================] - 42s 2ms/sample - loss: 0.0140 - mean_squared_error: 0.0140 - val_loss: 0.0115 - val_mean_squared_error: 0.0115\n",
            "Epoch 55/100\n",
            "21463/21463 [==============================] - 41s 2ms/sample - loss: 0.0138 - mean_squared_error: 0.0138 - val_loss: 0.0112 - val_mean_squared_error: 0.0112\n",
            "Epoch 56/100\n",
            "21463/21463 [==============================] - 41s 2ms/sample - loss: 0.0139 - mean_squared_error: 0.0139 - val_loss: 0.0114 - val_mean_squared_error: 0.0114\n",
            "Epoch 57/100\n",
            "21463/21463 [==============================] - 41s 2ms/sample - loss: 0.0134 - mean_squared_error: 0.0134 - val_loss: 0.0112 - val_mean_squared_error: 0.0112\n",
            "Epoch 58/100\n",
            "21463/21463 [==============================] - 41s 2ms/sample - loss: 0.0132 - mean_squared_error: 0.0132 - val_loss: 0.0113 - val_mean_squared_error: 0.0113\n",
            "Epoch 59/100\n",
            "21463/21463 [==============================] - 41s 2ms/sample - loss: 0.0135 - mean_squared_error: 0.0135 - val_loss: 0.0118 - val_mean_squared_error: 0.0118\n",
            "Epoch 60/100\n",
            "21463/21463 [==============================] - 41s 2ms/sample - loss: 0.0138 - mean_squared_error: 0.0138 - val_loss: 0.0111 - val_mean_squared_error: 0.0111\n",
            "Epoch 61/100\n",
            "21463/21463 [==============================] - 41s 2ms/sample - loss: 0.0133 - mean_squared_error: 0.0133 - val_loss: 0.0110 - val_mean_squared_error: 0.0110\n",
            "Epoch 62/100\n",
            "21463/21463 [==============================] - 41s 2ms/sample - loss: 0.0132 - mean_squared_error: 0.0132 - val_loss: 0.0109 - val_mean_squared_error: 0.0109\n",
            "Epoch 63/100\n",
            "21463/21463 [==============================] - 42s 2ms/sample - loss: 0.0133 - mean_squared_error: 0.0133 - val_loss: 0.0115 - val_mean_squared_error: 0.0115\n",
            "Epoch 64/100\n",
            "21463/21463 [==============================] - 41s 2ms/sample - loss: 0.0128 - mean_squared_error: 0.0128 - val_loss: 0.0113 - val_mean_squared_error: 0.0113\n",
            "Epoch 65/100\n",
            "21463/21463 [==============================] - 41s 2ms/sample - loss: 0.0131 - mean_squared_error: 0.0131 - val_loss: 0.0156 - val_mean_squared_error: 0.0156\n",
            "Epoch 66/100\n",
            "21463/21463 [==============================] - 41s 2ms/sample - loss: 0.0143 - mean_squared_error: 0.0143 - val_loss: 0.0113 - val_mean_squared_error: 0.0113\n",
            "Epoch 67/100\n",
            "21463/21463 [==============================] - 42s 2ms/sample - loss: 0.0130 - mean_squared_error: 0.0130 - val_loss: 0.0105 - val_mean_squared_error: 0.0105\n",
            "Epoch 68/100\n",
            "21463/21463 [==============================] - 45s 2ms/sample - loss: 0.0126 - mean_squared_error: 0.0126 - val_loss: 0.0106 - val_mean_squared_error: 0.0106\n",
            "Epoch 69/100\n",
            "21463/21463 [==============================] - 41s 2ms/sample - loss: 0.0126 - mean_squared_error: 0.0126 - val_loss: 0.0107 - val_mean_squared_error: 0.0107\n",
            "Epoch 70/100\n",
            "21463/21463 [==============================] - 41s 2ms/sample - loss: 0.0124 - mean_squared_error: 0.0124 - val_loss: 0.0109 - val_mean_squared_error: 0.0109\n",
            "Epoch 71/100\n",
            "21463/21463 [==============================] - 41s 2ms/sample - loss: 0.0125 - mean_squared_error: 0.0125 - val_loss: 0.0113 - val_mean_squared_error: 0.0113\n",
            "Epoch 72/100\n",
            "21463/21463 [==============================] - 41s 2ms/sample - loss: 0.0122 - mean_squared_error: 0.0122 - val_loss: 0.0116 - val_mean_squared_error: 0.0116\n",
            "Epoch 73/100\n",
            "21463/21463 [==============================] - 41s 2ms/sample - loss: 0.0123 - mean_squared_error: 0.0123 - val_loss: 0.0135 - val_mean_squared_error: 0.0135\n",
            "Epoch 74/100\n",
            "21463/21463 [==============================] - 41s 2ms/sample - loss: 0.0130 - mean_squared_error: 0.0130 - val_loss: 0.0116 - val_mean_squared_error: 0.0116\n",
            "Epoch 75/100\n",
            "21463/21463 [==============================] - 41s 2ms/sample - loss: 0.0126 - mean_squared_error: 0.0126 - val_loss: 0.0104 - val_mean_squared_error: 0.0104\n",
            "Epoch 76/100\n",
            "21463/21463 [==============================] - 41s 2ms/sample - loss: 0.0124 - mean_squared_error: 0.0124 - val_loss: 0.0128 - val_mean_squared_error: 0.0128\n",
            "Epoch 77/100\n",
            "21463/21463 [==============================] - 41s 2ms/sample - loss: 0.0124 - mean_squared_error: 0.0124 - val_loss: 0.0111 - val_mean_squared_error: 0.0111\n",
            "Epoch 78/100\n",
            "21463/21463 [==============================] - 41s 2ms/sample - loss: 0.0119 - mean_squared_error: 0.0119 - val_loss: 0.0110 - val_mean_squared_error: 0.0110\n",
            "Epoch 79/100\n",
            "21463/21463 [==============================] - 41s 2ms/sample - loss: 0.0120 - mean_squared_error: 0.0120 - val_loss: 0.0116 - val_mean_squared_error: 0.0116\n",
            "Epoch 80/100\n",
            "21463/21463 [==============================] - 41s 2ms/sample - loss: 0.0119 - mean_squared_error: 0.0119 - val_loss: 0.0104 - val_mean_squared_error: 0.0104\n",
            "Epoch 81/100\n",
            "21463/21463 [==============================] - 41s 2ms/sample - loss: 0.0117 - mean_squared_error: 0.0117 - val_loss: 0.0101 - val_mean_squared_error: 0.0101\n",
            "Epoch 82/100\n",
            "21463/21463 [==============================] - 41s 2ms/sample - loss: 0.0118 - mean_squared_error: 0.0118 - val_loss: 0.0105 - val_mean_squared_error: 0.0105\n",
            "Epoch 83/100\n",
            "21463/21463 [==============================] - 41s 2ms/sample - loss: 0.0117 - mean_squared_error: 0.0117 - val_loss: 0.0106 - val_mean_squared_error: 0.0106\n",
            "Epoch 84/100\n",
            "21463/21463 [==============================] - 41s 2ms/sample - loss: 0.0117 - mean_squared_error: 0.0117 - val_loss: 0.0115 - val_mean_squared_error: 0.0115\n",
            "Epoch 85/100\n",
            "21463/21463 [==============================] - 41s 2ms/sample - loss: 0.0120 - mean_squared_error: 0.0120 - val_loss: 0.0108 - val_mean_squared_error: 0.0108\n",
            "Epoch 86/100\n",
            "21463/21463 [==============================] - 41s 2ms/sample - loss: 0.0115 - mean_squared_error: 0.0115 - val_loss: 0.0106 - val_mean_squared_error: 0.0106\n",
            "Epoch 87/100\n",
            "21463/21463 [==============================] - 41s 2ms/sample - loss: 0.0114 - mean_squared_error: 0.0114 - val_loss: 0.0104 - val_mean_squared_error: 0.0104\n",
            "Epoch 88/100\n",
            "21463/21463 [==============================] - 41s 2ms/sample - loss: 0.0112 - mean_squared_error: 0.0112 - val_loss: 0.0108 - val_mean_squared_error: 0.0108\n",
            "Epoch 89/100\n",
            "21463/21463 [==============================] - 41s 2ms/sample - loss: 0.0115 - mean_squared_error: 0.0115 - val_loss: 0.0103 - val_mean_squared_error: 0.0103\n",
            "Epoch 90/100\n",
            "21463/21463 [==============================] - 41s 2ms/sample - loss: 0.0116 - mean_squared_error: 0.0116 - val_loss: 0.0105 - val_mean_squared_error: 0.0105\n",
            "Epoch 91/100\n",
            "21463/21463 [==============================] - 41s 2ms/sample - loss: 0.0114 - mean_squared_error: 0.0114 - val_loss: 0.0119 - val_mean_squared_error: 0.0119\n",
            "Epoch 92/100\n",
            "21463/21463 [==============================] - 41s 2ms/sample - loss: 0.0118 - mean_squared_error: 0.0118 - val_loss: 0.0105 - val_mean_squared_error: 0.0105\n",
            "Epoch 93/100\n",
            "21463/21463 [==============================] - 41s 2ms/sample - loss: 0.0116 - mean_squared_error: 0.0116 - val_loss: 0.0107 - val_mean_squared_error: 0.0107\n",
            "Epoch 94/100\n",
            "21463/21463 [==============================] - 42s 2ms/sample - loss: 0.0114 - mean_squared_error: 0.0114 - val_loss: 0.0107 - val_mean_squared_error: 0.0107\n",
            "Epoch 95/100\n",
            "21463/21463 [==============================] - 41s 2ms/sample - loss: 0.0112 - mean_squared_error: 0.0112 - val_loss: 0.0103 - val_mean_squared_error: 0.0103\n",
            "Epoch 96/100\n",
            "21463/21463 [==============================] - 41s 2ms/sample - loss: 0.0112 - mean_squared_error: 0.0112 - val_loss: 0.0105 - val_mean_squared_error: 0.0105\n",
            "Epoch 97/100\n",
            "21463/21463 [==============================] - 41s 2ms/sample - loss: 0.0110 - mean_squared_error: 0.0110 - val_loss: 0.0104 - val_mean_squared_error: 0.0104\n",
            "Epoch 98/100\n",
            "21463/21463 [==============================] - 41s 2ms/sample - loss: 0.0108 - mean_squared_error: 0.0108 - val_loss: 0.0107 - val_mean_squared_error: 0.0107\n",
            "Epoch 99/100\n",
            "21463/21463 [==============================] - 41s 2ms/sample - loss: 0.0111 - mean_squared_error: 0.0111 - val_loss: 0.0105 - val_mean_squared_error: 0.0105\n",
            "Epoch 100/100\n",
            "21463/21463 [==============================] - 41s 2ms/sample - loss: 0.0116 - mean_squared_error: 0.0116 - val_loss: 0.0105 - val_mean_squared_error: 0.0105\n"
          ],
          "name": "stdout"
        },
        {
          "output_type": "display_data",
          "data": {
            "image/png": "[encoded data removed]",
            "text/plain": [
              "<Figure size 432x288 with 1 Axes>"
            ]
          },
          "metadata": {
            "tags": []
          }
        }
      ]
    },
    {
      "cell_type": "code",
      "metadata": {
        "id": "tl7ZQIc83GRT",
        "colab_type": "code",
        "outputId": "2f5cfdca-6919-44a1-8cae-5daf27571d07",
        "colab": {
          "base_uri": "https://localhost:8080/",
          "height": 573
        }
      },
      "source": [
        "# summarize history for accuracy\n",
        "plt.plot(history.history['mean_squared_error'])\n",
        "plt.plot(history.history['val_mean_squared_error'])\n",
        "plt.title('model mse')\n",
        "plt.ylabel('mse')\n",
        "plt.xlabel('epoch')\n",
        "plt.legend(['train', 'test'], loc='upper left')\n",
        "plt.show()\n",
        "# summarize history for loss\n",
        "plt.plot(history.history['loss'])\n",
        "plt.plot(history.history['val_loss'])\n",
        "plt.title('model loss')\n",
        "plt.ylabel('loss')\n",
        "plt.xlabel('epoch')\n",
        "plt.legend(['train', 'test'], loc='upper left')\n",
        "plt.show()"
      ],
      "execution_count": 19,
      "outputs": [
        {
          "output_type": "display_data",
          "data": {
            "image/png": "[encoded data removed]",
            "text/plain": [
              "<Figure size 432x288 with 1 Axes>"
            ]
          },
          "metadata": {
            "tags": []
          }
        },
        {
          "output_type": "display_data",
          "data": {
            "image/png": "[encoded data removed]",
            "text/plain": [
              "<Figure size 432x288 with 1 Axes>"
            ]
          },
          "metadata": {
            "tags": []
          }
        }
      ]
    },
    {
      "cell_type": "markdown",
      "metadata": {
        "id": "wE8wxBM88QiK",
        "colab_type": "text"
      },
      "source": [
        "# Save model"
      ]
    },
    {
      "cell_type": "code",
      "metadata": {
        "id": "HbmJ3twe8S8v",
        "colab_type": "code",
        "colab": {}
      },
      "source": [
        "from google.colab import files\n",
        "\n",
        "model.save('keras.h5')\n",
        "files.download('keras.h5')\n",
        "#!pip install \"tensorflow>=1.7.0\"\n",
        "#!pip install tensorflowjs\n",
        "\n",
        "#!mkdir model\n",
        "#tfjs.converters.save_keras_model(model, \"./model\")\n",
        "#!tensorflowjs_converter --input_format keras keras.h5 model/\n",
        "#!zip -r model.zip model \n",
        "\n",
        "#files.download('model.zip')"
      ],
      "execution_count": 0,
      "outputs": []
    },
    {
      "cell_type": "code",
      "metadata": {
        "id": "7DsV3IEcsbaJ",
        "colab_type": "code",
        "colab": {}
      },
      "source": [
        ""
      ],
      "execution_count": 0,
      "outputs": []
    }
  ]
}